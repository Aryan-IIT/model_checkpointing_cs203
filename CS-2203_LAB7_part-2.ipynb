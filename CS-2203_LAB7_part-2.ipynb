{
 "cells": [
  {
   "cell_type": "markdown",
   "metadata": {},
   "source": [
    "# Libaray"
   ]
  },
  {
   "cell_type": "code",
   "execution_count": 1,
   "metadata": {},
   "outputs": [
    {
     "name": "stderr",
     "output_type": "stream",
     "text": [
      "C:\\Users\\Parth\\AppData\\Roaming\\Python\\Python310\\site-packages\\tqdm\\auto.py:21: TqdmWarning: IProgress not found. Please update jupyter and ipywidgets. See https://ipywidgets.readthedocs.io/en/stable/user_install.html\n",
      "  from .autonotebook import tqdm as notebook_tqdm\n"
     ]
    }
   ],
   "source": [
    "import numpy as np\n",
    "import pandas as pd\n",
    "import matplotlib.pyplot as plt\n",
    "from sklearn.metrics import confusion_matrix, accuracy_score\n",
    "from sklearn.model_selection import train_test_split\n",
    "from sklearn.feature_extraction.text import CountVectorizer\n",
    "\n",
    "import torch\n",
    "import torch.nn as nn\n",
    "import torch.optim as optim\n",
    "from torch.utils.data import DataLoader, Dataset\n",
    "from torch.utils.tensorboard import SummaryWriter\n",
    "\n",
    "from transformers import AutoTokenizer, AutoModel\n",
    "\n",
    "from torch.utils.data import DataLoader, TensorDataset\n",
    "from torch.utils.tensorboard import SummaryWriter  # TensorBoard\n",
    "import os"
   ]
  },
  {
   "cell_type": "code",
   "execution_count": 2,
   "metadata": {},
   "outputs": [
    {
     "name": "stdout",
     "output_type": "stream",
     "text": [
      "MLPClassifier(\n",
      "  (model): Sequential(\n",
      "    (0): Linear(in_features=10000, out_features=512, bias=True)\n",
      "    (1): ReLU()\n",
      "    (2): Linear(in_features=512, out_features=256, bias=True)\n",
      "    (3): ReLU()\n",
      "    (4): Linear(in_features=256, out_features=128, bias=True)\n",
      "    (5): ReLU()\n",
      "    (6): Linear(in_features=128, out_features=64, bias=True)\n",
      "    (7): ReLU()\n",
      "    (8): Linear(in_features=64, out_features=2, bias=True)\n",
      "  )\n",
      ")\n",
      "\n",
      "\n",
      "############### Parameters ############### \n",
      "Total Trainable Parameters: 5293122\n"
     ]
    }
   ],
   "source": [
    "class MLPClassifier(nn.Module):\n",
    "    def __init__(self, input_size):\n",
    "        super(MLPClassifier, self).__init__()\n",
    "        self.model = nn.Sequential(\n",
    "            nn.Linear(input_size, 512),\n",
    "            nn.ReLU(),\n",
    "            nn.Linear(512, 256),\n",
    "            nn.ReLU(),\n",
    "            nn.Linear(256, 128),\n",
    "            nn.ReLU(),\n",
    "            nn.Linear(128, 64),\n",
    "            nn.ReLU(),\n",
    "            nn.Linear(64, 2)  #output with 2 labels as speciied\n",
    "        )\n",
    "\n",
    "    def forward(self, x):\n",
    "        return self.model(x)\n",
    "\n",
    "# Example input size (to be updated based on feature extraction method)\n",
    "input_size = 10000  #based on the provided model architecture. \n",
    "\n",
    "# Initialize model\n",
    "mlp_model_ = MLPClassifier(input_size)\n",
    "print(mlp_model_)\n",
    "\n",
    "# Count trainable parameters\n",
    "print(\"\\n\\n############### Parameters ############### \")\n",
    "total_params = sum(p.numel() for p in mlp_model_.parameters() if p.requires_grad)\n",
    "print(f\"Total Trainable Parameters: {total_params}\")\n"
   ]
  },
  {
   "cell_type": "markdown",
   "metadata": {},
   "source": [
    "# For the bert embedding"
   ]
  },
  {
   "cell_type": "markdown",
   "metadata": {},
   "source": [
    "## Loading Saved Embeddings"
   ]
  },
  {
   "cell_type": "code",
   "execution_count": 3,
   "metadata": {},
   "outputs": [
    {
     "name": "stdout",
     "output_type": "stream",
     "text": [
      "Train Tensor Shape: torch.Size([40000, 768])\n",
      "Validation Tensor Shape: torch.Size([10000, 768])\n"
     ]
    }
   ],
   "source": [
    "import numpy as np\n",
    "import torch\n",
    "\n",
    "# Load training embeddings and labels\n",
    "X_train_imdb_bert = np.load(\"saved_bert_embed_imdb/IMDB_train_BERT_embeddings.npy\")\n",
    "y_train_imdb = np.load(\"saved_bert_embed_imdb/IMDB_train_labels.npy\")\n",
    "\n",
    "# Load validation embeddings and labels\n",
    "X_val_imdb_bert = np.load(\"saved_bert_embed_imdb/IMDB_val_BERT_embeddings.npy\")\n",
    "y_val_imdb = np.load(\"saved_bert_embed_imdb/IMDB_val_labels.npy\")\n",
    "\n",
    "# Convert to PyTorch tensors\n",
    "X_train_imdb_bert = torch.tensor(X_train_imdb_bert, dtype=torch.float32)\n",
    "y_train_imdb = torch.tensor(y_train_imdb, dtype=torch.long)\n",
    "\n",
    "X_val_imdb_bert = torch.tensor(X_val_imdb_bert, dtype=torch.float32)\n",
    "y_val_imdb = torch.tensor(y_val_imdb, dtype=torch.long)\n",
    "\n",
    "print(f\"Train Tensor Shape: {X_train_imdb_bert.shape}\")\n",
    "print(f\"Validation Tensor Shape: {X_val_imdb_bert.shape}\")\n"
   ]
  },
  {
   "cell_type": "code",
   "execution_count": 4,
   "metadata": {},
   "outputs": [
    {
     "name": "stdout",
     "output_type": "stream",
     "text": [
      "IMDB BERT Training Features Shape: torch.Size([40000, 768])\n",
      "IMDB BERT Validation Features Shape: torch.Size([10000, 768])\n"
     ]
    }
   ],
   "source": [
    "# Create DataLoaders\n",
    "train_dataset = TensorDataset(X_train_imdb_bert, y_train_imdb)\n",
    "val_dataset = TensorDataset(X_val_imdb_bert, y_val_imdb)\n",
    "\n",
    "train_loader = DataLoader(train_dataset, batch_size=32, shuffle=True)\n",
    "val_loader = DataLoader(val_dataset, batch_size=32, shuffle=False)\n",
    "\n",
    "print(f\"IMDB BERT Training Features Shape: {X_train_imdb_bert.shape}\")\n",
    "print(f\"IMDB BERT Validation Features Shape: {X_val_imdb_bert.shape}\")\n"
   ]
  },
  {
   "cell_type": "code",
   "execution_count": 5,
   "metadata": {},
   "outputs": [
    {
     "name": "stdout",
     "output_type": "stream",
     "text": [
      "Epoch [1/10] | Train Loss: 0.3262 | Val Loss: 0.3004 | Val Acc: 0.8634\n",
      "Epoch [2/10] | Train Loss: 0.2891 | Val Loss: 0.2923 | Val Acc: 0.8805\n",
      "Epoch [3/10] | Train Loss: 0.2799 | Val Loss: 0.2840 | Val Acc: 0.8860\n",
      "Epoch [4/10] | Train Loss: 0.2735 | Val Loss: 0.2652 | Val Acc: 0.8898\n",
      "Epoch [5/10] | Train Loss: 0.2680 | Val Loss: 0.2648 | Val Acc: 0.8883\n",
      "Epoch [6/10] | Train Loss: 0.2625 | Val Loss: 0.2666 | Val Acc: 0.8882\n",
      "Epoch [7/10] | Train Loss: 0.2574 | Val Loss: 0.2728 | Val Acc: 0.8839\n",
      "Epoch [8/10] | Train Loss: 0.2537 | Val Loss: 0.2614 | Val Acc: 0.8904\n",
      "Epoch [9/10] | Train Loss: 0.2480 | Val Loss: 0.2693 | Val Acc: 0.8844\n",
      "Epoch [10/10] | Train Loss: 0.2432 | Val Loss: 0.2710 | Val Acc: 0.8794\n",
      "Training complete! \n",
      "Model saved successfully!\n"
     ]
    }
   ],
   "source": [
    "# Define device\n",
    "device = torch.device(\"cuda\" if torch.cuda.is_available() else \"cpu\")\n",
    "\n",
    "# Initialize model\n",
    "input_size = X_train_imdb_bert.shape[1]  # Set input size dynamically\n",
    "model = MLPClassifier(input_size).to(device)\n",
    "\n",
    "# Loss and optimizer\n",
    "criterion = nn.CrossEntropyLoss()\n",
    "optimizer = optim.Adam(model.parameters(), lr=0.001)\n",
    "\n",
    "# DataLoader for training & validation\n",
    "batch_size = 32\n",
    "train_dataset = TensorDataset(X_train_imdb_bert, y_train_imdb)\n",
    "train_loader = DataLoader(train_dataset, batch_size=batch_size, shuffle=True)\n",
    "\n",
    "val_dataset = TensorDataset(X_val_imdb_bert, y_val_imdb)\n",
    "val_loader = DataLoader(val_dataset, batch_size=batch_size, shuffle=False)\n",
    "\n",
    "# Setup TensorBoard\n",
    "log_dir = \"logs/imdb_bert\"\n",
    "os.makedirs(log_dir, exist_ok=True)\n",
    "writer = SummaryWriter(log_dir=log_dir)\n",
    "\n",
    "# Training loop\n",
    "epochs = 10\n",
    "for epoch in range(epochs):\n",
    "    model.train()\n",
    "    total_loss = 0\n",
    "\n",
    "    for inputs, labels in train_loader:\n",
    "        inputs, labels = inputs.to(device), labels.to(device)\n",
    "\n",
    "        optimizer.zero_grad()\n",
    "        outputs = model(inputs)\n",
    "        loss = criterion(outputs, labels)\n",
    "        loss.backward()\n",
    "        optimizer.step()\n",
    "\n",
    "        total_loss += loss.item()\n",
    "\n",
    "    avg_train_loss = total_loss / len(train_loader)\n",
    "\n",
    "    # Validation step\n",
    "    model.eval()\n",
    "    correct = 0\n",
    "    total = 0\n",
    "    val_loss = 0\n",
    "\n",
    "    with torch.no_grad():\n",
    "        for inputs, labels in val_loader:\n",
    "            inputs, labels = inputs.to(device), labels.to(device)\n",
    "\n",
    "            outputs = model(inputs)\n",
    "            loss = criterion(outputs, labels)\n",
    "            val_loss += loss.item()\n",
    "\n",
    "            _, predicted = torch.max(outputs, 1)\n",
    "            correct += (predicted == labels).sum().item()\n",
    "            total += labels.size(0)\n",
    "\n",
    "    avg_val_loss = val_loss / len(val_loader)\n",
    "    val_accuracy = correct / total\n",
    "\n",
    "    # Log losses & accuracy to TensorBoard\n",
    "    writer.add_scalar(\"Loss/Train\", avg_train_loss, epoch)\n",
    "    writer.add_scalar(\"Loss/Validation\", avg_val_loss, epoch)\n",
    "    writer.add_scalar(\"Accuracy/Validation\", val_accuracy, epoch)\n",
    "\n",
    "    print(f\"Epoch [{epoch+1}/{epochs}] | Train Loss: {avg_train_loss:.4f} | Val Loss: {avg_val_loss:.4f} | Val Acc: {val_accuracy:.4f}\")\n",
    "\n",
    "writer.close()\n",
    "print(\"Training complete! \")\n",
    "\n",
    "# Save the trained model\n",
    "torch.save(model.state_dict(), \"saved_models_bert/MLP_BERT_Final.pt\")\n",
    "print(\"Model saved successfully!\")\n",
    "\n",
    "# Run TensorBoard (use this command in terminal)\n",
    "# tensorboard --logdir=logs/imdb_bert"
   ]
  },
  {
   "cell_type": "markdown",
   "metadata": {},
   "source": [
    "# For bag of wordds"
   ]
  },
  {
   "cell_type": "code",
   "execution_count": 8,
   "metadata": {},
   "outputs": [
    {
     "name": "stdout",
     "output_type": "stream",
     "text": [
      "IMDB BoW Training Features Shape: (40000, 10000)\n",
      "IMDB BoW Validation Features Shape: (10000, 10000)\n"
     ]
    }
   ],
   "source": [
    "# Load the IMDB dataset\n",
    "imdb_url = \"https://raw.githubusercontent.com/Ankit152/IMDB-sentiment-analysis/master/IMDB-Dataset.csv\"\n",
    "imdb_df = pd.read_csv(imdb_url)\n",
    "\n",
    "# Convert sentiment to numerical labels ('positive' -> 1, 'negative' -> 0)\n",
    "imdb_df['label'] = imdb_df['sentiment'].apply(lambda x: 1 if x.lower() == 'positive' else 0)\n",
    "\n",
    "# Split dataset (80% training, 20% validation)\n",
    "imdb_train_df, imdb_val_df = train_test_split(imdb_df, test_size=0.2, random_state=42)\n",
    "\n",
    "# Extract text and labels\n",
    "imdb_train_texts = imdb_train_df['review']\n",
    "imdb_train_labels = imdb_train_df['label']\n",
    "imdb_val_texts = imdb_val_df['review']\n",
    "imdb_val_labels = imdb_val_df['label']\n",
    "\n",
    "# Initialize CountVectorizer for Bag-of-Words representation\n",
    "vectorizer = CountVectorizer(max_features=10000)  # Limit vocabulary size to 10,000\n",
    "X_train_imdb = vectorizer.fit_transform(imdb_train_texts).toarray()\n",
    "X_val_imdb = vectorizer.transform(imdb_val_texts).toarray()\n",
    "\n",
    "# Convert features and labels to PyTorch tensors\n",
    "X_train_imdb_bow = torch.tensor(X_train_imdb, dtype=torch.float32)\n",
    "X_val_imdb_bow = torch.tensor(X_val_imdb, dtype=torch.float32)\n",
    "y_train_imdb = torch.tensor(imdb_train_labels.values, dtype=torch.long)\n",
    "y_val_imdb = torch.tensor(imdb_val_labels.values, dtype=torch.long)\n",
    "\n",
    "print(f\"IMDB BoW Training Features Shape: {X_train_imdb.shape}\")\n",
    "print(f\"IMDB BoW Validation Features Shape: {X_val_imdb.shape}\")\n"
   ]
  },
  {
   "cell_type": "code",
   "execution_count": 9,
   "metadata": {},
   "outputs": [
    {
     "name": "stdout",
     "output_type": "stream",
     "text": [
      "Epoch [1/10] | Train Loss: 0.3153 | Val Loss: 0.2515 | Val Acc: 0.8947\n",
      "Epoch [2/10] | Train Loss: 0.1882 | Val Loss: 0.3161 | Val Acc: 0.8854\n",
      "Epoch [3/10] | Train Loss: 0.1037 | Val Loss: 0.3358 | Val Acc: 0.8898\n",
      "Epoch [4/10] | Train Loss: 0.0403 | Val Loss: 0.5710 | Val Acc: 0.8856\n",
      "Epoch [5/10] | Train Loss: 0.0176 | Val Loss: 0.8382 | Val Acc: 0.8837\n",
      "Epoch [6/10] | Train Loss: 0.0162 | Val Loss: 0.9806 | Val Acc: 0.8866\n",
      "Epoch [7/10] | Train Loss: 0.0128 | Val Loss: 0.7697 | Val Acc: 0.8875\n",
      "Epoch [8/10] | Train Loss: 0.0115 | Val Loss: 0.7699 | Val Acc: 0.8874\n",
      "Epoch [9/10] | Train Loss: 0.0109 | Val Loss: 0.6217 | Val Acc: 0.8872\n",
      "Epoch [10/10] | Train Loss: 0.0140 | Val Loss: 0.7819 | Val Acc: 0.8875\n",
      "Training complete! 🎉\n",
      "Model saved successfully!\n"
     ]
    }
   ],
   "source": [
    "# Define device\n",
    "device = torch.device(\"cuda\" if torch.cuda.is_available() else \"cpu\")\n",
    "\n",
    "# Initialize model\n",
    "input_size = X_train_imdb_bow.shape[1]  # Set input size dynamically\n",
    "model = MLPClassifier(input_size).to(device)\n",
    "\n",
    "# Loss and optimizer\n",
    "criterion = nn.CrossEntropyLoss()\n",
    "optimizer = optim.Adam(model.parameters(), lr=0.001)\n",
    "\n",
    "# DataLoader for training & validation\n",
    "batch_size = 32\n",
    "train_dataset = TensorDataset(X_train_imdb_bow, y_train_imdb)\n",
    "train_loader = DataLoader(train_dataset, batch_size=batch_size, shuffle=True)\n",
    "\n",
    "val_dataset = TensorDataset(X_val_imdb_bow, y_val_imdb)\n",
    "val_loader = DataLoader(val_dataset, batch_size=batch_size, shuffle=False)\n",
    "\n",
    "# Setup TensorBoard\n",
    "log_dir = \"logs/imdb_bow\"\n",
    "os.makedirs(log_dir, exist_ok=True)\n",
    "writer = SummaryWriter(log_dir=log_dir)\n",
    "\n",
    "# Training loop\n",
    "epochs = 10\n",
    "for epoch in range(epochs):\n",
    "    model.train()\n",
    "    total_loss = 0\n",
    "\n",
    "    for inputs, labels in train_loader:\n",
    "        inputs, labels = inputs.to(device), labels.to(device)\n",
    "\n",
    "        optimizer.zero_grad()\n",
    "        outputs = model(inputs)\n",
    "        loss = criterion(outputs, labels)\n",
    "        loss.backward()\n",
    "        optimizer.step()\n",
    "\n",
    "        total_loss += loss.item()\n",
    "\n",
    "    avg_train_loss = total_loss / len(train_loader)\n",
    "\n",
    "    # Validation step\n",
    "    model.eval()\n",
    "    correct = 0\n",
    "    total = 0\n",
    "    val_loss = 0\n",
    "\n",
    "    with torch.no_grad():\n",
    "        for inputs, labels in val_loader:\n",
    "            inputs, labels = inputs.to(device), labels.to(device)\n",
    "\n",
    "            outputs = model(inputs)\n",
    "            loss = criterion(outputs, labels)\n",
    "            val_loss += loss.item()\n",
    "\n",
    "            _, predicted = torch.max(outputs, 1)\n",
    "            correct += (predicted == labels).sum().item()\n",
    "            total += labels.size(0)\n",
    "\n",
    "    avg_val_loss = val_loss / len(val_loader)\n",
    "    val_accuracy = correct / total\n",
    "\n",
    "    # Log losses & accuracy to TensorBoard\n",
    "    writer.add_scalar(\"Loss/Train\", avg_train_loss, epoch)\n",
    "    writer.add_scalar(\"Loss/Validation\", avg_val_loss, epoch)\n",
    "    writer.add_scalar(\"Accuracy/Validation\", val_accuracy, epoch)\n",
    "\n",
    "    print(f\"Epoch [{epoch+1}/{epochs}] | Train Loss: {avg_train_loss:.4f} | Val Loss: {avg_val_loss:.4f} | Val Acc: {val_accuracy:.4f}\")\n",
    "\n",
    "writer.close()\n",
    "print(\"Training complete! 🎉\")\n",
    "\n",
    "# Save the trained model\n",
    "torch.save(model.state_dict(), \"saved_models_bow/MLP_BoW_Final.pt\")\n",
    "print(\"Model saved successfully!\")\n",
    "\n",
    "# Run TensorBoard (use this command in terminal)\n",
    "# tensorboard --logdir=logs/imdb_bow"
   ]
  },
  {
   "cell_type": "code",
   "execution_count": 13,
   "metadata": {},
   "outputs": [
    {
     "name": "stderr",
     "output_type": "stream",
     "text": [
      "C:\\Users\\Parth\\AppData\\Local\\Temp\\ipykernel_29104\\1307470804.py:14: FutureWarning: You are using `torch.load` with `weights_only=False` (the current default value), which uses the default pickle module implicitly. It is possible to construct malicious pickle data which will execute arbitrary code during unpickling (See https://github.com/pytorch/pytorch/blob/main/SECURITY.md#untrusted-models for more details). In a future release, the default value for `weights_only` will be flipped to `True`. This limits the functions that could be executed during unpickling. Arbitrary objects will no longer be allowed to be loaded via this mode unless they are explicitly allowlisted by the user via `torch.serialization.add_safe_globals`. We recommend you start setting `weights_only=True` for any use case where you don't have full control of the loaded file. Please open an issue on GitHub for any issues related to this experimental feature.\n",
      "  model.load_state_dict(torch.load(model_path, map_location=torch.device(\"cpu\")))\n",
      "C:\\Users\\Parth\\AppData\\Local\\Temp\\ipykernel_29104\\1307470804.py:18: UserWarning: To copy construct from a tensor, it is recommended to use sourceTensor.clone().detach() or sourceTensor.clone().detach().requires_grad_(True), rather than torch.tensor(sourceTensor).\n",
      "  X_val = torch.tensor(X_val, dtype=torch.float32)\n"
     ]
    },
    {
     "data": {
      "image/png": "[encoded data removed]",
      "text/plain": [
       "<Figure size 600x500 with 2 Axes>"
      ]
     },
     "metadata": {},
     "output_type": "display_data"
    },
    {
     "name": "stdout",
     "output_type": "stream",
     "text": [
      "\n",
      "Classification Report for MLP (BoW):\n",
      "               precision    recall  f1-score   support\n",
      "\n",
      "           0       0.90      0.87      0.88      4961\n",
      "           1       0.87      0.91      0.89      5039\n",
      "\n",
      "    accuracy                           0.89     10000\n",
      "   macro avg       0.89      0.89      0.89     10000\n",
      "weighted avg       0.89      0.89      0.89     10000\n",
      "\n"
     ]
    },
    {
     "name": "stderr",
     "output_type": "stream",
     "text": [
      "C:\\Users\\Parth\\AppData\\Local\\Temp\\ipykernel_29104\\1307470804.py:14: FutureWarning: You are using `torch.load` with `weights_only=False` (the current default value), which uses the default pickle module implicitly. It is possible to construct malicious pickle data which will execute arbitrary code during unpickling (See https://github.com/pytorch/pytorch/blob/main/SECURITY.md#untrusted-models for more details). In a future release, the default value for `weights_only` will be flipped to `True`. This limits the functions that could be executed during unpickling. Arbitrary objects will no longer be allowed to be loaded via this mode unless they are explicitly allowlisted by the user via `torch.serialization.add_safe_globals`. We recommend you start setting `weights_only=True` for any use case where you don't have full control of the loaded file. Please open an issue on GitHub for any issues related to this experimental feature.\n",
      "  model.load_state_dict(torch.load(model_path, map_location=torch.device(\"cpu\")))\n",
      "C:\\Users\\Parth\\AppData\\Local\\Temp\\ipykernel_29104\\1307470804.py:18: UserWarning: To copy construct from a tensor, it is recommended to use sourceTensor.clone().detach() or sourceTensor.clone().detach().requires_grad_(True), rather than torch.tensor(sourceTensor).\n",
      "  X_val = torch.tensor(X_val, dtype=torch.float32)\n"
     ]
    },
    {
     "data": {
      "image/png": "[encoded data removed]",
      "text/plain": [
       "<Figure size 600x500 with 2 Axes>"
      ]
     },
     "metadata": {},
     "output_type": "display_data"
    },
    {
     "name": "stdout",
     "output_type": "stream",
     "text": [
      "\n",
      "Classification Report for MLP (BERT):\n",
      "               precision    recall  f1-score   support\n",
      "\n",
      "           0       0.84      0.94      0.89      4961\n",
      "           1       0.93      0.82      0.87      5039\n",
      "\n",
      "    accuracy                           0.88     10000\n",
      "   macro avg       0.88      0.88      0.88     10000\n",
      "weighted avg       0.89      0.88      0.88     10000\n",
      "\n"
     ]
    }
   ],
   "source": [
    "import torch\n",
    "import numpy as np\n",
    "import seaborn as sns\n",
    "import matplotlib.pyplot as plt\n",
    "from sklearn.metrics import confusion_matrix, classification_report\n",
    "\n",
    "\n",
    "\n",
    "# Define function to load model and compute predictions\n",
    "def evaluate_model(model_path, X_val, model_name=\"Model\"):\n",
    "    # Load model\n",
    "    input_size = X_val.shape[1]\n",
    "    model = MLPClassifier(input_size)\n",
    "    model.load_state_dict(torch.load(model_path, map_location=torch.device(\"cpu\")))\n",
    "    model.eval()\n",
    "\n",
    "    # Convert to tensor\n",
    "    X_val = torch.tensor(X_val, dtype=torch.float32)\n",
    "\n",
    "    # Get predictions\n",
    "    with torch.no_grad():\n",
    "        outputs = model(X_val)\n",
    "        predictions = torch.argmax(outputs, dim=1).numpy()\n",
    "\n",
    "    # Compute confusion matrix\n",
    "    cm = confusion_matrix(y_val_imdb.numpy(), predictions)\n",
    "\n",
    "    # Plot confusion matrix\n",
    "    plt.figure(figsize=(6, 5))\n",
    "    sns.heatmap(cm, annot=True, fmt=\"d\", cmap=\"Blues\", xticklabels=[\"Negative\", \"Positive\"], yticklabels=[\"Negative\", \"Positive\"])\n",
    "    plt.xlabel(\"Predicted Label\")\n",
    "    plt.ylabel(\"True Label\")\n",
    "    plt.title(f\"Confusion Matrix for {model_name}\")\n",
    "    plt.show()\n",
    "\n",
    "    # Print classification report\n",
    "    print(f\"\\nClassification Report for {model_name}:\\n\", classification_report(y_val_imdb.numpy(), predictions))\n",
    "\n",
    "\n",
    "\n",
    "# Evaluate BoW Model\n",
    "evaluate_model(\"saved_models_bow/MLP_BoW_Final.pt\", X_val_imdb_bow, \"MLP (BoW)\")\n",
    "\n",
    "# Evaluate BERT Model\n",
    "evaluate_model(\"saved_models_bert/MLP_BERT_Final.pt\", X_val_imdb_bert, \"MLP (BERT)\")\n"
   ]
  },
  {
   "cell_type": "code",
   "execution_count": 10,
   "metadata": {},
   "outputs": [
    {
     "name": "stdout",
     "output_type": "stream",
     "text": [
      "^C\n"
     ]
    }
   ],
   "source": [
    "!tensorboard --logdir=logs/imdb_bert"
   ]
  }
 ],
 "metadata": {
  "kernelspec": {
   "display_name": "Python 3",
   "language": "python",
   "name": "python3"
  },
  "language_info": {
   "codemirror_mode": {
    "name": "ipython",
    "version": 3
   },
   "file_extension": ".py",
   "mimetype": "text/x-python",
   "name": "python",
   "nbconvert_exporter": "python",
   "pygments_lexer": "ipython3",
   "version": "3.10.11"
  }
 },
 "nbformat": 4,
 "nbformat_minor": 2
}
